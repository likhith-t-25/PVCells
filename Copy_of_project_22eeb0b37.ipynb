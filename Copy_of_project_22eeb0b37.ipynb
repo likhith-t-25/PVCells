{
  "cells": [
    {
      "cell_type": "markdown",
      "metadata": {
        "id": "view-in-github",
        "colab_type": "text"
      },
      "source": [
        "<a href=\"https://colab.research.google.com/github/likhith-t-25/PVCells/blob/main/Copy_of_project_22eeb0b37.ipynb\" target=\"_parent\"><img src=\"https://colab.research.google.com/assets/colab-badge.svg\" alt=\"Open In Colab\"/></a>"
      ]
    },
    {
      "cell_type": "code",
      "execution_count": null,
      "metadata": {
        "id": "PSTQ3sNQ53Ke"
      },
      "outputs": [],
      "source": []
    },
    {
      "cell_type": "code",
      "source": [],
      "metadata": {
        "id": "mB4l2tlbbNEz"
      },
      "execution_count": null,
      "outputs": []
    },
    {
      "cell_type": "code",
      "execution_count": null,
      "metadata": {
        "id": "D3e7N0vjbQde"
      },
      "outputs": [],
      "source": [
        "y=int(input(\"no.of subjects:\"))\n",
        "t=0\n",
        "subject=[]\n",
        "credits=[]\n",
        "for i in range(y):\n",
        "    name=input(\"enter name of subject:\")\n",
        "    subject.append(name)\n",
        "    g=int(input(\"no.of credits:\"))\n",
        "    credits.append(g)\n",
        "    n=int(input(\"no.of students:\"))\n",
        "    q=int(input(\"no.of questions:\"))\n",
        "    user='nitw22'\n",
        "    password='nitwcad'\n",
        "    for i in range(4):\n",
        "        u=input(\"enter username:\")\n",
        "        p=input(\"enter password:\")\n",
        "        if user==u and password==p:\n",
        "           print(\"login suceessfully\")\n",
        "           break\n",
        "        elif user==u and password!=p:\n",
        "             print(\"password is incorrect try again\")\n",
        "        elif password==p and user!=u:\n",
        "             print(\"user is incorrect try again\")\n",
        "        t=t+1\n",
        "    if t==4:\n",
        "       print(\"login unsucessful try again after few minutes\")\n",
        "       break\n",
        "    import time\n",
        "    k=0\n",
        "    z=[]\n",
        "    h=[]\n",
        "    for i in range(n):\n",
        "        m=0\n",
        "        names=input(\"enter your name:\")\n",
        "        for j in range(q):\n",
        "            ques=input(\"enter question:\")\n",
        "            a=input(\"first option:\")\n",
        "            b=input(\"enter second option:\")\n",
        "            c=input(\"third option:\")\n",
        "            d=input(\"fourth option:\")\n",
        "            ans=input(\"answer:\")\n",
        "\n",
        "            start=time.time()\n",
        "            e=input(\"enter your choice\")\n",
        "            end=k+time.time()\n",
        "            k=end-start\n",
        "            if end-start<=20:\n",
        "               if ans==e:\n",
        "                  m=m+4\n",
        "               elif e==\"null\":\n",
        "                    m=m\n",
        "               else:\n",
        "                     m=m-1\n",
        "        print(\"marks of\",names,\"in subject\",name,\"is :\",str(m))\n",
        "    for i in range(n):\n",
        "        l=int(input(\"marks of students:\"))\n",
        "        z.append(l)\n",
        "    sum=0\n",
        "    for i in range(n):\n",
        "        sum=sum+z[i]\n",
        "    average=sum/n\n",
        "    print(\"average marks of class:\",average)\n",
        "    std=0\n",
        "    for i in range(n):\n",
        "        std=std+(((average-z[i])**2)/n)**0.5\n",
        "    print(\"standard deviation is:\",std)\n",
        "    j=[]\n",
        "    o=[]\n",
        "    for i in range(n):\n",
        "        u=input(\"enter your name:\")\n",
        "        j.append(u)\n",
        "        branch=input(\"enter your branch\")\n",
        "        o.append(branch)\n",
        "\n",
        "        if z[i]>=average and z[i]<average+0.5*std:\n",
        "           grade=7\n",
        "        elif z[i]>=average+0.5*std and z[i]<average+0.75*std:\n",
        "            grade=8\n",
        "        elif z[i]>=average+0.75*std and z[i]<average+std:\n",
        "             grade=9\n",
        "\n",
        "        elif z[i]>=average+std and z[i]<=4*q:\n",
        "              grade=10\n",
        "        else:\n",
        "              grade=6\n",
        "\n",
        "        print(\"grade of student in subject\",name,\"for\",u,\"is:\",str(grade))\n",
        "        h.append(grade)\n",
        "cr=0\n",
        "for i in range(y):\n",
        "    cr=cr+credits[i]\n",
        "print(\"total no.of credits:\",cr)\n",
        "for i in range(n):\n",
        "     gpa=0\n",
        "     for x in range(y):\n",
        "         gpa=gpa+h[x]*credits[x]\n",
        "     d={\n",
        "        \"name\":j[i],\n",
        "        \"branch\":o[i],\n",
        "        \"gpa\":gpa//cr\n",
        "     }\n",
        "     print(d)\n"
      ]
    }
  ],
  "metadata": {
    "colab": {
      "provenance": [],
      "authorship_tag": "ABX9TyMFgSUxO9Clkg7uoxDjPirf",
      "include_colab_link": true
    },
    "kernelspec": {
      "display_name": "Python 3",
      "name": "python3"
    },
    "language_info": {
      "name": "python"
    }
  },
  "nbformat": 4,
  "nbformat_minor": 0
}